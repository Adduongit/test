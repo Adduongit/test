{
  "nbformat": 4,
  "nbformat_minor": 0,
  "metadata": {
    "colab": {
      "provenance": []
    },
    "kernelspec": {
      "name": "python3",
      "display_name": "Python 3"
    },
    "language_info": {
      "name": "python"
    },
    "widgets": {
      "application/vnd.jupyter.widget-state+json": {
        "a183dbbc8323497db81e69a5069bc8f5": {
          "model_module": "@jupyter-widgets/controls",
          "model_name": "TextModel",
          "model_module_version": "1.5.0",
          "state": {
            "_dom_classes": [],
            "_model_module": "@jupyter-widgets/controls",
            "_model_module_version": "1.5.0",
            "_model_name": "TextModel",
            "_view_count": null,
            "_view_module": "@jupyter-widgets/controls",
            "_view_module_version": "1.5.0",
            "_view_name": "TextView",
            "continuous_update": true,
            "description": "Your Name <3:",
            "description_tooltip": null,
            "disabled": false,
            "layout": "IPY_MODEL_fbcd34002b00452eb4af2442e35ce368",
            "placeholder": "Enter your name",
            "style": "IPY_MODEL_1e6d94ecb00248c0af5faccd7e4ee3c9",
            "value": "aa"
          }
        },
        "fbcd34002b00452eb4af2442e35ce368": {
          "model_module": "@jupyter-widgets/base",
          "model_name": "LayoutModel",
          "model_module_version": "1.2.0",
          "state": {
            "_model_module": "@jupyter-widgets/base",
            "_model_module_version": "1.2.0",
            "_model_name": "LayoutModel",
            "_view_count": null,
            "_view_module": "@jupyter-widgets/base",
            "_view_module_version": "1.2.0",
            "_view_name": "LayoutView",
            "align_content": null,
            "align_items": null,
            "align_self": null,
            "border": null,
            "bottom": null,
            "display": null,
            "flex": null,
            "flex_flow": null,
            "grid_area": null,
            "grid_auto_columns": null,
            "grid_auto_flow": null,
            "grid_auto_rows": null,
            "grid_column": null,
            "grid_gap": null,
            "grid_row": null,
            "grid_template_areas": null,
            "grid_template_columns": null,
            "grid_template_rows": null,
            "height": null,
            "justify_content": null,
            "justify_items": null,
            "left": null,
            "margin": null,
            "max_height": null,
            "max_width": null,
            "min_height": null,
            "min_width": null,
            "object_fit": null,
            "object_position": null,
            "order": null,
            "overflow": null,
            "overflow_x": null,
            "overflow_y": null,
            "padding": null,
            "right": null,
            "top": null,
            "visibility": null,
            "width": null
          }
        },
        "1e6d94ecb00248c0af5faccd7e4ee3c9": {
          "model_module": "@jupyter-widgets/controls",
          "model_name": "DescriptionStyleModel",
          "model_module_version": "1.5.0",
          "state": {
            "_model_module": "@jupyter-widgets/controls",
            "_model_module_version": "1.5.0",
            "_model_name": "DescriptionStyleModel",
            "_view_count": null,
            "_view_module": "@jupyter-widgets/base",
            "_view_module_version": "1.2.0",
            "_view_name": "StyleView",
            "description_width": ""
          }
        },
        "8c734370cf644a5ba42fb1f3992913f8": {
          "model_module": "@jupyter-widgets/controls",
          "model_name": "ButtonModel",
          "model_module_version": "1.5.0",
          "state": {
            "_dom_classes": [],
            "_model_module": "@jupyter-widgets/controls",
            "_model_module_version": "1.5.0",
            "_model_name": "ButtonModel",
            "_view_count": null,
            "_view_module": "@jupyter-widgets/controls",
            "_view_module_version": "1.5.0",
            "_view_name": "ButtonView",
            "button_style": "",
            "description": "Submit",
            "disabled": false,
            "icon": "",
            "layout": "IPY_MODEL_8834eebb137243b6bf8ee71e8978b6be",
            "style": "IPY_MODEL_9696ae878e2e4eb6bc5683cbec8c1c73",
            "tooltip": ""
          }
        },
        "8834eebb137243b6bf8ee71e8978b6be": {
          "model_module": "@jupyter-widgets/base",
          "model_name": "LayoutModel",
          "model_module_version": "1.2.0",
          "state": {
            "_model_module": "@jupyter-widgets/base",
            "_model_module_version": "1.2.0",
            "_model_name": "LayoutModel",
            "_view_count": null,
            "_view_module": "@jupyter-widgets/base",
            "_view_module_version": "1.2.0",
            "_view_name": "LayoutView",
            "align_content": null,
            "align_items": null,
            "align_self": null,
            "border": null,
            "bottom": null,
            "display": null,
            "flex": null,
            "flex_flow": null,
            "grid_area": null,
            "grid_auto_columns": null,
            "grid_auto_flow": null,
            "grid_auto_rows": null,
            "grid_column": null,
            "grid_gap": null,
            "grid_row": null,
            "grid_template_areas": null,
            "grid_template_columns": null,
            "grid_template_rows": null,
            "height": null,
            "justify_content": null,
            "justify_items": null,
            "left": null,
            "margin": null,
            "max_height": null,
            "max_width": null,
            "min_height": null,
            "min_width": null,
            "object_fit": null,
            "object_position": null,
            "order": null,
            "overflow": null,
            "overflow_x": null,
            "overflow_y": null,
            "padding": null,
            "right": null,
            "top": null,
            "visibility": null,
            "width": null
          }
        },
        "9696ae878e2e4eb6bc5683cbec8c1c73": {
          "model_module": "@jupyter-widgets/controls",
          "model_name": "ButtonStyleModel",
          "model_module_version": "1.5.0",
          "state": {
            "_model_module": "@jupyter-widgets/controls",
            "_model_module_version": "1.5.0",
            "_model_name": "ButtonStyleModel",
            "_view_count": null,
            "_view_module": "@jupyter-widgets/base",
            "_view_module_version": "1.2.0",
            "_view_name": "StyleView",
            "button_color": null,
            "font_weight": ""
          }
        },
        "23c649e5eff040a59fd1eccc8355b9ec": {
          "model_module": "@jupyter-widgets/controls",
          "model_name": "LabelModel",
          "model_module_version": "1.5.0",
          "state": {
            "_dom_classes": [],
            "_model_module": "@jupyter-widgets/controls",
            "_model_module_version": "1.5.0",
            "_model_name": "LabelModel",
            "_view_count": null,
            "_view_module": "@jupyter-widgets/controls",
            "_view_module_version": "1.5.0",
            "_view_name": "LabelView",
            "description": "",
            "description_tooltip": null,
            "layout": "IPY_MODEL_3d1ed220940045a88f3329dad3008942",
            "placeholder": "​",
            "style": "IPY_MODEL_3ca11be9c3f54e90aa95f6410eb2ce89",
            "value": "Your personalized message is coming up!"
          }
        },
        "3d1ed220940045a88f3329dad3008942": {
          "model_module": "@jupyter-widgets/base",
          "model_name": "LayoutModel",
          "model_module_version": "1.2.0",
          "state": {
            "_model_module": "@jupyter-widgets/base",
            "_model_module_version": "1.2.0",
            "_model_name": "LayoutModel",
            "_view_count": null,
            "_view_module": "@jupyter-widgets/base",
            "_view_module_version": "1.2.0",
            "_view_name": "LayoutView",
            "align_content": null,
            "align_items": null,
            "align_self": null,
            "border": null,
            "bottom": null,
            "display": null,
            "flex": null,
            "flex_flow": null,
            "grid_area": null,
            "grid_auto_columns": null,
            "grid_auto_flow": null,
            "grid_auto_rows": null,
            "grid_column": null,
            "grid_gap": null,
            "grid_row": null,
            "grid_template_areas": null,
            "grid_template_columns": null,
            "grid_template_rows": null,
            "height": null,
            "justify_content": null,
            "justify_items": null,
            "left": null,
            "margin": null,
            "max_height": null,
            "max_width": null,
            "min_height": null,
            "min_width": null,
            "object_fit": null,
            "object_position": null,
            "order": null,
            "overflow": null,
            "overflow_x": null,
            "overflow_y": null,
            "padding": null,
            "right": null,
            "top": null,
            "visibility": null,
            "width": null
          }
        },
        "3ca11be9c3f54e90aa95f6410eb2ce89": {
          "model_module": "@jupyter-widgets/controls",
          "model_name": "DescriptionStyleModel",
          "model_module_version": "1.5.0",
          "state": {
            "_model_module": "@jupyter-widgets/controls",
            "_model_module_version": "1.5.0",
            "_model_name": "DescriptionStyleModel",
            "_view_count": null,
            "_view_module": "@jupyter-widgets/base",
            "_view_module_version": "1.2.0",
            "_view_name": "StyleView",
            "description_width": ""
          }
        }
      }
    }
  },
  "cells": [
    {
      "cell_type": "code",
      "execution_count": 25,
      "metadata": {
        "colab": {
          "base_uri": "https://localhost:8080/",
          "height": 711,
          "referenced_widgets": [
            "a183dbbc8323497db81e69a5069bc8f5",
            "fbcd34002b00452eb4af2442e35ce368",
            "1e6d94ecb00248c0af5faccd7e4ee3c9",
            "8c734370cf644a5ba42fb1f3992913f8",
            "8834eebb137243b6bf8ee71e8978b6be",
            "9696ae878e2e4eb6bc5683cbec8c1c73",
            "23c649e5eff040a59fd1eccc8355b9ec",
            "3d1ed220940045a88f3329dad3008942",
            "3ca11be9c3f54e90aa95f6410eb2ce89"
          ]
        },
        "id": "B1K3qowndT6i",
        "outputId": "27692a4a-69ad-4d5a-e0e5-64a15b3c2488"
      },
      "outputs": [
        {
          "output_type": "display_data",
          "data": {
            "text/plain": [
              "Text(value='', description='Your Name <3:', placeholder='Enter your name')"
            ],
            "application/vnd.jupyter.widget-view+json": {
              "version_major": 2,
              "version_minor": 0,
              "model_id": "a183dbbc8323497db81e69a5069bc8f5"
            }
          },
          "metadata": {}
        },
        {
          "output_type": "display_data",
          "data": {
            "text/plain": [
              "Button(description='Submit', style=ButtonStyle())"
            ],
            "application/vnd.jupyter.widget-view+json": {
              "version_major": 2,
              "version_minor": 0,
              "model_id": "8c734370cf644a5ba42fb1f3992913f8"
            }
          },
          "metadata": {}
        },
        {
          "output_type": "display_data",
          "data": {
            "text/plain": [
              "Label(value='')"
            ],
            "application/vnd.jupyter.widget-view+json": {
              "version_major": 2,
              "version_minor": 0,
              "model_id": "23c649e5eff040a59fd1eccc8355b9ec"
            }
          },
          "metadata": {}
        },
        {
          "output_type": "display_data",
          "data": {
            "text/plain": [
              "<Figure size 600x600 with 1 Axes>"
            ],
            "image/png": "[encoded data removed]"
          },
          "metadata": {}
        }
      ],
      "source": [
        "import ipywidgets as widgets\n",
        "import numpy as np\n",
        "import matplotlib.pyplot as plt\n",
        "from matplotlib import cm\n",
        "from IPython.display import display\n",
        "\n",
        "# Function to plot a flower with a blue gradient and text inside\n",
        "def plot_flower(name):\n",
        "    # Create an array of angles\n",
        "    theta = np.linspace(0, 2 * np.pi, 1000)\n",
        "\n",
        "    # Parametric equations for a flower\n",
        "    r = np.cos(5 * theta)  # Create a 5-petal flower\n",
        "\n",
        "    # Convert polar to cartesian coordinates\n",
        "    x = r * np.cos(theta)\n",
        "    y = r * np.sin(theta)\n",
        "\n",
        "    # Create the plot\n",
        "    plt.figure(figsize=(6, 6))\n",
        "\n",
        "    # Apply gradient by using a colormap from blue to light blue\n",
        "    colors = cm.Blues(np.linspace(0, 1, len(x)))  # Generate gradient from blue to light blue\n",
        "\n",
        "    # Plot each petal with a gradient color\n",
        "    for i in range(len(x) - 1):\n",
        "        plt.plot(x[i:i+2], y[i:i+2], color=colors[i], linewidth=2)\n",
        "\n",
        "    # Fill flower petals with gradient effect\n",
        "    plt.fill(x, y, color=colors[500], alpha=0.3)  # Fill the flower with the middle gradient color\n",
        "\n",
        "    plt.gca().set_aspect('equal', adjustable='box')  # Keep aspect ratio square\n",
        "    plt.axis('off')  # Remove axis\n",
        "\n",
        "    # Add the name outside the flower, above it\n",
        "    plt.text(0, 1.5, f\"Happy Valentine's Day, {name}!\", ha='center', va='center', fontsize=25, color='red')\n",
        "\n",
        "    plt.show()\n",
        "\n",
        "# Function to handle button click\n",
        "def on_button_click(b):\n",
        "    name = name_input.value\n",
        "    if name:\n",
        "        label.value = f\"Your personalized message is coming up!\"  # Show message above the flower\n",
        "        plot_flower(name)  # Display the flower with the name outside the flower\n",
        "    else:\n",
        "        label.value = \"Please enter your name!\"  # If no name is entered\n",
        "\n",
        "# Create input field for name\n",
        "name_input = widgets.Text(description=\"Your Name <3:\", placeholder=\"Enter your name\")\n",
        "\n",
        "# Create a submit button\n",
        "button = widgets.Button(description=\"Submit\")\n",
        "\n",
        "# Label to show the greeting message\n",
        "label = widgets.Label()\n",
        "\n",
        "# Attach the event handler to the button\n",
        "button.on_click(on_button_click)\n",
        "\n",
        "# Display input, button, and label (this is all the user will see)\n",
        "display(name_input, button, label)\n"
      ]
    }
  ]
}